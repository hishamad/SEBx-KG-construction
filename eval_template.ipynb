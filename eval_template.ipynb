{
 "cells": [
  {
   "cell_type": "code",
   "execution_count": 35,
   "metadata": {},
   "outputs": [
    {
     "name": "stdout",
     "output_type": "stream",
     "text": [
      "Metric 1: Number of correct triplets/total triplets\n",
      "\n",
      "Correct triplets:\n",
      "1. (Biden, Elected_To, New Castle County Council)\n",
      "2. (Biden, Elected_To, U.S. Senate)\n",
      "3. (Biden, Drafted, Violent Crime Control Act)\n",
      "4. (Biden, Led, Violence Against Women Act)\n",
      "5. (Biden, Oversaw, Robert Bork)\n",
      "6. (Biden, Oversaw, Clarence Thomas)\n",
      "7. (Biden, Ran_For, Democratic presidential nominations)\n",
      "\n",
      "Incorrect triplet:\n",
      "1. (Obama, Chosen_As, Running mate) - This triplet is incorrect because Biden was chosen as Obama's running mate, not the other way around.\n",
      "\n",
      "Number of correct triplets = 7\n",
      "Total triplets = 8\n",
      "\n",
      "Metric 1 = 7/8 = 0.875\n"
     ]
    }
   ],
   "source": [
    "from openai import OpenAI\n",
    "\n",
    "# Place your OpenAI key in a file called .openai_api_key\n",
    "api_key = open(\".openai_api_key\", \"r\").read()\n",
    "client = OpenAI(api_key=api_key)\n",
    "\n",
    "original_text = \"Born in Scranton, Pennsylvania, Biden moved with his family to Delaware in 1953. He graduated from the University of Delaware in 1965 before earning his law degree from Syracuse University in 1968. He was elected to the New Castle County Council in 1970 and the U.S. Senate in 1972, as one of the youngest Senators in history. As a senator, Biden drafted and led the effort to pass the Violent Crime Control and Law Enforcement Act and the Violence Against Women Act. He also oversaw six U.S. Supreme Court confirmation hearings, including the contentious hearings for Robert Bork and Clarence Thomas. Biden ran unsuccessfully for the 1988 and 2008 Democratic presidential nominations. In 2008, Obama chose Biden as his running mate, and he was a close counselor to Obama during his two terms as vice president. In the 2020 presidential election, the Democratic Party nominated Biden for president. H\"\n",
    "extracted = \"\"\"\t\n",
    "(Biden,\tElected_To,\tNew Castle County Council)\n",
    "(Biden,\tElected_To,\tU.S. Senate)\n",
    "(Biden,\tDrafted,\tViolent Crime Control Act)\n",
    "(Biden,\tLed,\tViolence Against Women Act)\n",
    "(Biden,\tOversaw,\tRobert Bork)\n",
    "(Biden,\tOversaw,\tClarence Thomas)\n",
    "(Biden,\tRan_For,\tDemocratic presidential nominations)\n",
    "(Obama,\tChosen_As,\tRunning mate)\n",
    "\"\"\"\n",
    "evaluation_metrics = \"Metric 1: Number of correct triplets/ total triplets\"\n",
    "\n",
    "completion = client.chat.completions.create(\n",
    "    temperature=0.5,\n",
    "    model=\"gpt-4o\",\n",
    "    messages=[\n",
    "        {\n",
    "            \"role\": \"system\",\n",
    "            \"content\": \n",
    "            \"\"\"\n",
    "                You are an evaluator that will asses the results of a knowledge graph construction task. \n",
    "                You will not perform the task but you just have to evaluate the results.\n",
    "                You will be given the original text that the knowledge graph construction was performed on, the extracted entities/triplets and evaluation metrics that you should calculate.\n",
    "                Your answer should only contain the evaluation.\n",
    "            \"\"\"\n",
    "        },\n",
    "        {\n",
    "            \"role\": \"user\",\n",
    "            \"content\": \n",
    "            f\"\"\"\n",
    "                Original text: {original_text},\n",
    "                Extracted triplets: {extracted},\n",
    "                Evaluation metrics instructions: {evaluation_metrics}\n",
    "            \"\"\"\n",
    "        }\n",
    "    ]\n",
    ")\n",
    "\n",
    "print(completion.choices[0].message.content)"
   ]
  },
  {
   "cell_type": "code",
   "execution_count": null,
   "metadata": {},
   "outputs": [],
   "source": []
  }
 ],
 "metadata": {
  "kernelspec": {
   "display_name": "Python 3",
   "language": "python",
   "name": "python3"
  },
  "language_info": {
   "codemirror_mode": {
    "name": "ipython",
    "version": 3
   },
   "file_extension": ".py",
   "mimetype": "text/x-python",
   "name": "python",
   "nbconvert_exporter": "python",
   "pygments_lexer": "ipython3",
   "version": "3.9.4"
  }
 },
 "nbformat": 4,
 "nbformat_minor": 2
}
