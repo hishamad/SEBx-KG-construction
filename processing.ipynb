{
 "cells": [
  {
   "cell_type": "code",
   "execution_count": 12,
   "metadata": {},
   "outputs": [],
   "source": [
    "from path import folder_path\n",
    "import os\n",
    "import json\n",
    "json_data = []\n",
    "    \n",
    "    \n",
    "for file in os.listdir(folder_path):\n",
    "         path = folder_path +'/' + file\n",
    "         with open(path, 'r') as json_file:\n",
    "                    data = json.load(json_file)\n",
    "                    json_data.append(data)\n",
    "                \n",
    "\n",
    "\n",
    "\n"
   ]
  },
  {
   "cell_type": "code",
   "execution_count": 13,
   "metadata": {},
   "outputs": [
    {
     "name": "stdout",
     "output_type": "stream",
     "text": [
      "length of json data 57802\n",
      "916\n"
     ]
    }
   ],
   "source": [
    "MAX_CHARCTER = 100\n",
    "print(\"length of json data \" +  str(len(json_data)))\n",
    "\n",
    "counter = 0\n",
    "for data in json_data:\n",
    "    if len(data['text']) <= MAX_CHARCTER:\n",
    "        counter+=1\n",
    "\n",
    "print(counter)"
   ]
  },
  {
   "cell_type": "code",
   "execution_count": 14,
   "metadata": {},
   "outputs": [
    {
     "name": "stdout",
     "output_type": "stream",
     "text": [
      "January 17, 2018 / 9:33 PM / in 8 minutes BRIEF-Alcoa Corp Q4 Loss Per Share $1.06 Reuters Staff \n",
      "Jan 17 (Reuters) - Alcoa Corp: \n",
      "* ORATION REPORTS FOURTH QUARTER AND FULL-YEAR 2017 RESULTS * Q4 ADJUSTED EARNINGS PER SHARE $1.04 EXCLUDING ITEMS * Q4 LOSS PER SHARE $1.06 * Q4 REVENUE $3.2 BILLION VERSUS I/B/E/S VIEW $3.3 BILLION \n",
      "* Q4 EARNINGS PER SHARE VIEW $1.26 -- THOMSON REUTERS I/B/E/S * - QTRLY ALUMINA PRODUCTION 3,331 KMT VERSUS 3,295 KMT \n",
      "* SAYS INVENTORIES AT QUARTER END WERE $1,453 MILLION VERSUS $1,323 MILLION AT Q3 END \n",
      "* - ‍COMPANY ANNOUNCES FREEZE OF U.S. AND CANADA SALARIED DEFINED BENEFIT PENSION PLANS, EFFECTIVE JANUARY 1, 2021​ \n",
      "* - BASED ON JAN. 2018 MARKET ASSUMPTIONS, PROJECTING FULL-YEAR 2018 ADJUSTED EBITDA, EXCLUDING SPECIAL ITEMS, TO BE $2.6 BILLION TO $2.8 BILLION \n",
      "* - ‍ANNOUNCES CHANGES TO U.S. AND CANADA DEFINED BENEFIT PENSION PLANS, AND TO CERTAIN U.S. OTHER POST-EMPLOYMENT BENEFITS​ \n",
      "* - “INFORMED SALARIED EMPLOYEES IN UNITED STATES AND CANADA OF UPCOMING CHANGES TO THEIR RETIREMENT BENEFITS” \n",
      "* - FOR 2018, CO PROJECTS BALANCED GLOBAL BAUXITE, ALUMINA MARKETS AND A GLOBAL ALUMINUM DEFICIT OF 300 THOUSAND TO 700 THOUSAND METRIC TONS \n",
      "* ALCOA - ‍ALSO TO MAKE DISCRETIONARY CONTRIBUTIONS,BEYOND REQUIRED CONTRIBUTIONS,TO U.S.,CANADA DEFINED BENEFIT PENSION PLANS IN 2018 OF ABOUT $300 MILLION​ \n",
      "* ALCOA - PROJECTING 2018 GLOBAL ALUMINUM DEMAND GROWTH OF 4.25 TO 5.25 PERCENT, FOLLOWING COMPANY‘S FINAL 2017 GLOBAL DEMAND GROWTH RATE OF 5.25 PERCENT \n",
      "* ALCOA-‍IN CONNECTION WITH DISCRETIONARY CONTRIBUTIONS,CO TO MAKE ANNUITY PURCHASES TO LOWER RISK,COST MAINTAINING MINIMUM REQUIRED CONTRIBUTION LEVELS​ \n",
      "* ALCOA - EFFECTIVE JAN. 1, 2021, SALARIED EMPLOYEES IN U.S.,CANADA, TO CEASE ACCRUING RETIREMENT BENEFITS FOR FUTURE SERVICE UNDER DEFINED BENEFIT PENSION PLANS \n",
      "* - ‍EFFECTIVE JAN 1, 2021, CO WILL NO LONGER CONTRIBUTE TO PRE-MEDICARE RETIREE MEDICAL COVERAGE FOR U.S. SALARIED EMPLOYEES AND RETIREES​ \n",
      "* ALCOA - IN RELATION TO CHANGE TO RETIREMENT BENEFITS, ABOUT 800 AFFECTED EMPLOYEES WILL BE TRANSITIONED TO COUNTRY-SPECIFIC DEFINED CONTRIBUTION PLANS \n",
      "* - AS RESULT OF ACTION, CO ‍EXPECTS TO BOTH REDUCE ITS NET PENSION AND OPEB LIABILITY BY $35 MILLION​ \n",
      "* - IN Q4, RECORDED CHARGE OF $22 MILLION IN INCOME TAX PROVISION DUE TO REMEASUREMENT OF DEFERRED INCOME TAX POSITIONS DUE TO NEW TAX LAW \n",
      "* - ALCOA EXPECTS TO RECORD NON-CASH NONOPERATING INCOME OF ABOUT $20 MILLION IN Q1 2018 AS A RESULT OF CHANGES TO PENSION AND OPEB Source text for Eikon: Further company coverage:\n"
     ]
    }
   ],
   "source": [
    "print(json_data[55]['text'])"
   ]
  },
  {
   "cell_type": "code",
   "execution_count": 15,
   "metadata": {},
   "outputs": [
    {
     "name": "stdout",
     "output_type": "stream",
     "text": [
      "3526\n"
     ]
    }
   ],
   "source": [
    "import json\n",
    "MAX_CHARCTER = 500\n",
    "MIN_CHARCTER = 400\n",
    "list = []\n",
    "new_data = {}\n",
    "counter = 0\n",
    "\n",
    "for data in json_data:\n",
    "    if len(data['text']) <= MAX_CHARCTER and len(data['text']) >=MIN_CHARCTER :\n",
    "        new_data[counter] = data['text']\n",
    "        counter+=1\n",
    "\n",
    "print(counter)\n",
    "    \n",
    "json_out = json.dumps(new_data, indent=4)\n",
    "\n",
    "out_file = 'new_dataset.json'\n",
    "f = open(out_file, 'w')\n",
    "\n",
    "f.write(json_out)\n",
    "f.close()\n"
   ]
  }
 ],
 "metadata": {
  "kernelspec": {
   "display_name": "base",
   "language": "python",
   "name": "python3"
  },
  "language_info": {
   "codemirror_mode": {
    "name": "ipython",
    "version": 3
   },
   "file_extension": ".py",
   "mimetype": "text/x-python",
   "name": "python",
   "nbconvert_exporter": "python",
   "pygments_lexer": "ipython3",
   "version": "3.12.2"
  }
 },
 "nbformat": 4,
 "nbformat_minor": 2
}
