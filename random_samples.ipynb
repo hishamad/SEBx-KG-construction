{
 "cells": [
  {
   "cell_type": "code",
   "execution_count": 32,
   "metadata": {},
   "outputs": [],
   "source": [
    "import json\n",
    "\n",
    "with open('output/gpt_triplets.json', 'r') as file:\n",
    "    gpt_triplets = json.load(file)\n",
    "\n",
    "with open('output/llama_triplets.json', 'r') as file:\n",
    "    llama_triplets = json.load(file)\n",
    "\n",
    "with open('output/mixtral_triplets.json', 'r') as file:\n",
    "    mixtral_triplets = json.load(file)"
   ]
  },
  {
   "cell_type": "code",
   "execution_count": 33,
   "metadata": {},
   "outputs": [
    {
     "name": "stdout",
     "output_type": "stream",
     "text": [
      "300\n",
      "300\n",
      "300\n"
     ]
    }
   ],
   "source": [
    "gpt_triplets = gpt_triplets[:-1]\n",
    "mixtral_triplets = mixtral_triplets[:-1]\n",
    "print(len(gpt_triplets))\n",
    "print(len(llama_triplets))\n",
    "print(len(mixtral_triplets))"
   ]
  },
  {
   "cell_type": "code",
   "execution_count": 34,
   "metadata": {},
   "outputs": [
    {
     "name": "stdout",
     "output_type": "stream",
     "text": [
      "[2, 13, 24, 26, 41, 56, 62, 63, 64, 72, 74, 75, 82, 83, 85, 89, 91, 92, 96, 98, 104, 107, 117, 121, 126, 134, 141, 148, 158, 171, 177, 179, 189, 192, 198, 201, 202, 206, 209, 221, 229, 232, 233, 235, 236, 259, 272, 283, 284, 289]\n"
     ]
    }
   ],
   "source": [
    "import random\n",
    "\n",
    "random.seed(100)\n",
    "\n",
    "random_indices = sorted(random.sample(range(len(gpt_triplets)), k=50))\n",
    "\n",
    "print(random_indices)"
   ]
  },
  {
   "cell_type": "markdown",
   "metadata": {},
   "source": [
    "Convert input text from JSON to Text to make it more readable"
   ]
  },
  {
   "cell_type": "code",
   "execution_count": 35,
   "metadata": {},
   "outputs": [],
   "source": [
    "with open('new_dataset.json', 'r', encoding='utf-8') as file:\n",
    "    dataset = json.load(file)\n",
    "\n",
    "with open('test_dataset.txt', 'w', encoding='utf-8') as f:\n",
    "    for index, text in dataset.items():\n",
    "        if int(index) in random_indices:\n",
    "            f.write(f\"Document {index}:\\n{text}\\n\\n\")\n"
   ]
  }
 ],
 "metadata": {
  "kernelspec": {
   "display_name": "Python 3",
   "language": "python",
   "name": "python3"
  },
  "language_info": {
   "codemirror_mode": {
    "name": "ipython",
    "version": 3
   },
   "file_extension": ".py",
   "mimetype": "text/x-python",
   "name": "python",
   "nbconvert_exporter": "python",
   "pygments_lexer": "ipython3",
   "version": "3.9.4"
  }
 },
 "nbformat": 4,
 "nbformat_minor": 2
}
