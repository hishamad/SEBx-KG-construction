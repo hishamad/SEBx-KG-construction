{
 "cells": [
  {
   "cell_type": "code",
   "execution_count": 1,
   "metadata": {},
   "outputs": [],
   "source": [
    "import json\n",
    "from triplet_models.gpt import triplet_gpt\n"
   ]
  },
  {
   "cell_type": "code",
   "execution_count": 4,
   "metadata": {},
   "outputs": [],
   "source": [
    "\n",
    "with open('new_dataset.json', 'r') as file:\n",
    "    data = json.load(file)\n",
    "\n",
    "gpt_triplets = []\n",
    "for k, v in data.items():\n",
    "    if len(gpt_triplets) > 300:\n",
    "        break\n",
    "    result = triplet_gpt(v)\n",
    "    gpt_triplets.append(result)"
   ]
  },
  {
   "cell_type": "code",
   "execution_count": 11,
   "metadata": {},
   "outputs": [],
   "source": [
    "with open('./output/gpt_triplets.json', 'w') as file:\n",
    "    file.write(json.dumps(gpt_triplets, indent=4))"
   ]
  }
 ],
 "metadata": {
  "kernelspec": {
   "display_name": "Python 3",
   "language": "python",
   "name": "python3"
  },
  "language_info": {
   "codemirror_mode": {
    "name": "ipython",
    "version": 3
   },
   "file_extension": ".py",
   "mimetype": "text/x-python",
   "name": "python",
   "nbconvert_exporter": "python",
   "pygments_lexer": "ipython3",
   "version": "3.9.4"
  }
 },
 "nbformat": 4,
 "nbformat_minor": 2
}
