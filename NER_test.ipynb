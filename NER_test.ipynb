{
 "cells": [
  {
   "cell_type": "code",
   "execution_count": 4,
   "metadata": {},
   "outputs": [
    {
     "name": "stdout",
     "output_type": "stream",
     "text": [
      "['Uber Technologies Inc.', 'The Wall Street Journal', 'U.S.', 'Technology']\n",
      "['COMP', 'ORG', 'GPE', 'SECTOR']\n"
     ]
    }
   ],
   "source": [
    "from ner_models.ner_gpt import ner_gpt\n",
    "input_text = \"Subscribe Sign In Uber’s Financials: An Inside Look Uber Technologies Inc. isn't obligated to publicly disclose its financial records as a privately held company. The Wall Street Journal reviewed recent quarterly statements that show how fast the most valuable U.S. private technology company is growing — and losing money.\"\n",
    "\n",
    "result_dict = ner_gpt(input_text)\n",
    "print(result_dict[\"entity\"])\n",
    "print(result_dict[\"entity_type\"])\n"
   ]
  }
 ],
 "metadata": {
  "kernelspec": {
   "display_name": "Python 3",
   "language": "python",
   "name": "python3"
  },
  "language_info": {
   "codemirror_mode": {
    "name": "ipython",
    "version": 3
   },
   "file_extension": ".py",
   "mimetype": "text/x-python",
   "name": "python",
   "nbconvert_exporter": "python",
   "pygments_lexer": "ipython3",
   "version": "3.9.4"
  }
 },
 "nbformat": 4,
 "nbformat_minor": 2
}
