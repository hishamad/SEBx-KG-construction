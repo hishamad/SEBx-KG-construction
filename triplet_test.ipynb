{
 "cells": [
  {
   "cell_type": "code",
   "execution_count": 1,
   "metadata": {},
   "outputs": [
    {
     "name": "stdout",
     "output_type": "stream",
     "text": [
      "{'subject': ['Uber Technologies Inc.', 'Uber Technologies Inc.'], 'subject_type': ['COMP', 'COMP'], 'relationship': ['Operate_In', 'Relate_To'], 'object': ['Technology', 'Financial Records'], 'object_type': ['SECTOR', 'CONCEPT']}\n",
      "['Uber Technologies Inc.', 'Uber Technologies Inc.']\n",
      "['COMP', 'COMP']\n",
      "['Operate_In', 'Relate_To']\n",
      "['Technology', 'Financial Records']\n",
      "['SECTOR', 'CONCEPT']\n"
     ]
    }
   ],
   "source": [
    "from triplet_models.triplet_gpt import triplet_gpt\n",
    "input_text = \"Subscribe Sign In Uber’s Financials: An Inside Look Uber Technologies Inc. isn't obligated to publicly disclose its financial records as a privately held company. The Wall Street Journal reviewed recent quarterly statements that show how fast the most valuable U.S. private technology company is growing — and losing money.\"\n",
    "\n",
    "result_dict = triplet_gpt(input_text)\n",
    "print(result_dict)\n",
    "print(result_dict[\"subject\"])\n",
    "print(result_dict[\"subject_type\"])\n",
    "print(result_dict[\"relationship\"])\n",
    "print(result_dict[\"object\"])\n",
    "print(result_dict[\"object_type\"])\n"
   ]
  }
 ],
 "metadata": {
  "kernelspec": {
   "display_name": "Python 3",
   "language": "python",
   "name": "python3"
  },
  "language_info": {
   "codemirror_mode": {
    "name": "ipython",
    "version": 3
   },
   "file_extension": ".py",
   "mimetype": "text/x-python",
   "name": "python",
   "nbconvert_exporter": "python",
   "pygments_lexer": "ipython3",
   "version": "3.9.4"
  }
 },
 "nbformat": 4,
 "nbformat_minor": 2
}
